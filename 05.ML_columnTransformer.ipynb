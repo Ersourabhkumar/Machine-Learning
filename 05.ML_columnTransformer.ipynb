{
 "cells": [
  {
   "cell_type": "code",
   "execution_count": 2,
   "id": "0c69d4da-6d75-4d15-be40-8921c7d098ef",
   "metadata": {},
   "outputs": [],
   "source": [
    "# Column Transformer ---->In this will create tempalate of our project.\n",
    "# covid dataset \n",
    "# df--->x_train,x_test , y_train, y_test\n",
    "# x_train--->col1,col2,col3,col4,....\n",
    "\n",
    "# categorical --->Numerical  ---> col.shape\n",
    "# Numerical--->col.shape\n",
    "\n",
    "# np.concatenate(col1.shape,col2.shape....coln.shape)\n",
    "\n",
    "# when we  apply columnstransformer -->shape=withpout using column transformer  shape\n",
    "\n",
    "# columntransformer(\n",
    "     # \"constant\",\"operation_name/approach_name\",\"column_name\"\n",
    "# )"
   ]
  },
  {
   "cell_type": "code",
   "execution_count": 3,
   "id": "8035e518-db7a-4c9e-b0a6-46c255300dca",
   "metadata": {},
   "outputs": [],
   "source": [
    "import numpy as np\n",
    "import pandas as pd"
   ]
  },
  {
   "cell_type": "code",
   "execution_count": 4,
   "id": "2eaaaf77-890d-43cb-a8c7-d42825eee985",
   "metadata": {},
   "outputs": [
    {
     "data": {
      "text/html": [
       "<div>\n",
       "<style scoped>\n",
       "    .dataframe tbody tr th:only-of-type {\n",
       "        vertical-align: middle;\n",
       "    }\n",
       "\n",
       "    .dataframe tbody tr th {\n",
       "        vertical-align: top;\n",
       "    }\n",
       "\n",
       "    .dataframe thead th {\n",
       "        text-align: right;\n",
       "    }\n",
       "</style>\n",
       "<table border=\"1\" class=\"dataframe\">\n",
       "  <thead>\n",
       "    <tr style=\"text-align: right;\">\n",
       "      <th></th>\n",
       "      <th>age</th>\n",
       "      <th>gender</th>\n",
       "      <th>fever</th>\n",
       "      <th>cough</th>\n",
       "      <th>city</th>\n",
       "      <th>has_covid</th>\n",
       "    </tr>\n",
       "  </thead>\n",
       "  <tbody>\n",
       "    <tr>\n",
       "      <th>0</th>\n",
       "      <td>60</td>\n",
       "      <td>Male</td>\n",
       "      <td>103.0</td>\n",
       "      <td>Mild</td>\n",
       "      <td>Kolkata</td>\n",
       "      <td>No</td>\n",
       "    </tr>\n",
       "    <tr>\n",
       "      <th>1</th>\n",
       "      <td>27</td>\n",
       "      <td>Male</td>\n",
       "      <td>100.0</td>\n",
       "      <td>Mild</td>\n",
       "      <td>Delhi</td>\n",
       "      <td>Yes</td>\n",
       "    </tr>\n",
       "  </tbody>\n",
       "</table>\n",
       "</div>"
      ],
      "text/plain": [
       "   age gender  fever cough     city has_covid\n",
       "0   60   Male  103.0  Mild  Kolkata        No\n",
       "1   27   Male  100.0  Mild    Delhi       Yes"
      ]
     },
     "execution_count": 4,
     "metadata": {},
     "output_type": "execute_result"
    }
   ],
   "source": [
    "df=pd.read_csv(\"covid_toy - covid_toy.csv\")\n",
    "df.head(2)"
   ]
  },
  {
   "cell_type": "code",
   "execution_count": 20,
   "id": "ff8d5782-edb6-4cc4-91dc-91e78892f758",
   "metadata": {},
   "outputs": [],
   "source": [
    "from sklearn.impute import SimpleImputer ##for fill missing values\n",
    "from  sklearn.preprocessing import OneHotEncoder #encode\n",
    "from  sklearn.preprocessing import OrdinalEncoder #encode"
   ]
  },
  {
   "cell_type": "code",
   "execution_count": 21,
   "id": "79df905e-b79c-4714-a3cd-d73608bdd2cb",
   "metadata": {},
   "outputs": [],
   "source": [
    "# df.isnull().sum()"
   ]
  },
  {
   "cell_type": "code",
   "execution_count": 22,
   "id": "be2f480c-fc33-466e-8501-f8e63439106f",
   "metadata": {},
   "outputs": [],
   "source": [
    "x=df.drop(columns=[\"has_covid\"])\n",
    "y=df[\"has_covid\"]"
   ]
  },
  {
   "cell_type": "code",
   "execution_count": 23,
   "id": "28051696-859d-4447-a6e2-e1ee89f9fbb4",
   "metadata": {},
   "outputs": [],
   "source": [
    "from sklearn.model_selection import train_test_split"
   ]
  },
  {
   "cell_type": "code",
   "execution_count": 24,
   "id": "7461d821-15f6-4d71-83c6-210b2b390776",
   "metadata": {},
   "outputs": [],
   "source": [
    "x_train,x_test,y_train,y_test=train_test_split(x,y,test_size=0.2,random_state=42)"
   ]
  },
  {
   "cell_type": "code",
   "execution_count": 25,
   "id": "31834691-3b73-446b-bde0-51ee9c81453c",
   "metadata": {},
   "outputs": [
    {
     "data": {
      "text/html": [
       "<div>\n",
       "<style scoped>\n",
       "    .dataframe tbody tr th:only-of-type {\n",
       "        vertical-align: middle;\n",
       "    }\n",
       "\n",
       "    .dataframe tbody tr th {\n",
       "        vertical-align: top;\n",
       "    }\n",
       "\n",
       "    .dataframe thead th {\n",
       "        text-align: right;\n",
       "    }\n",
       "</style>\n",
       "<table border=\"1\" class=\"dataframe\">\n",
       "  <thead>\n",
       "    <tr style=\"text-align: right;\">\n",
       "      <th></th>\n",
       "      <th>age</th>\n",
       "      <th>gender</th>\n",
       "      <th>fever</th>\n",
       "      <th>cough</th>\n",
       "      <th>city</th>\n",
       "    </tr>\n",
       "  </thead>\n",
       "  <tbody>\n",
       "    <tr>\n",
       "      <th>55</th>\n",
       "      <td>81</td>\n",
       "      <td>Female</td>\n",
       "      <td>101.0</td>\n",
       "      <td>Mild</td>\n",
       "      <td>Mumbai</td>\n",
       "    </tr>\n",
       "    <tr>\n",
       "      <th>88</th>\n",
       "      <td>5</td>\n",
       "      <td>Female</td>\n",
       "      <td>100.0</td>\n",
       "      <td>Mild</td>\n",
       "      <td>Kolkata</td>\n",
       "    </tr>\n",
       "  </tbody>\n",
       "</table>\n",
       "</div>"
      ],
      "text/plain": [
       "    age  gender  fever cough     city\n",
       "55   81  Female  101.0  Mild   Mumbai\n",
       "88    5  Female  100.0  Mild  Kolkata"
      ]
     },
     "execution_count": 25,
     "metadata": {},
     "output_type": "execute_result"
    }
   ],
   "source": [
    "x_train.head(2)"
   ]
  },
  {
   "cell_type": "code",
   "execution_count": 26,
   "id": "2924c040-9481-45df-83ed-45a4e1a21f5f",
   "metadata": {},
   "outputs": [],
   "source": [
    "# We will apply opretion one by one"
   ]
  },
  {
   "cell_type": "code",
   "execution_count": 27,
   "id": "e698db7f-0bde-40b2-84b6-9b547018ffad",
   "metadata": {},
   "outputs": [
    {
     "data": {
      "text/plain": [
       "(80, 1)"
      ]
     },
     "execution_count": 27,
     "metadata": {},
     "output_type": "execute_result"
    }
   ],
   "source": [
    "# adding Simple imputer to fever column\n",
    "si=SimpleImputer(strategy=\"mean\")\n",
    "x_train_fever=si.fit_transform(x_train[[\"fever\"]])\n",
    "x_train_fever.shape"
   ]
  },
  {
   "cell_type": "code",
   "execution_count": 28,
   "id": "83adb3d2-6c0a-4b6e-96e0-ad0fa332e378",
   "metadata": {},
   "outputs": [
    {
     "data": {
      "text/plain": [
       "(80, 1)"
      ]
     },
     "execution_count": 28,
     "metadata": {},
     "output_type": "execute_result"
    }
   ],
   "source": [
    "# Ordinal Encoding --cough\n",
    "oe=OrdinalEncoder(categories=[[\"Mild\",\"Strong\"]])\n",
    "x_train_cough=oe.fit_transform(x_train[[\"cough\"]])\n",
    "x_train_cough.shape"
   ]
  },
  {
   "cell_type": "code",
   "execution_count": 45,
   "id": "aa521aa2-fdd4-4bd5-9a11-a0c4a9b34f39",
   "metadata": {},
   "outputs": [
    {
     "data": {
      "text/plain": [
       "(80, 4)"
      ]
     },
     "execution_count": 45,
     "metadata": {},
     "output_type": "execute_result"
    }
   ],
   "source": [
    "# OneHoteEncoding --->gender,city\n",
    "ohe=OneHotEncoder(drop=\"first\",sparse_output=False)\n",
    "x_train_gender_city=ohe.fit_transform(x_train[[\"gender\",'city']])\n",
    "x_train_gender_city.shape"
   ]
  },
  {
   "cell_type": "code",
   "execution_count": 54,
   "id": "a6b8974f-030f-4900-a2ea-0bf8ed893f69",
   "metadata": {},
   "outputs": [],
   "source": [
    "# Extracting Age\n",
    "x_train_age=x_train.drop(columns=[\"gender\",\"fever\",\"cough\",\"city\"]).values"
   ]
  },
  {
   "cell_type": "code",
   "execution_count": 55,
   "id": "e50a1338-2922-4f1a-8d73-a6c766c76fb7",
   "metadata": {},
   "outputs": [
    {
     "data": {
      "text/plain": [
       "(80, 1)"
      ]
     },
     "execution_count": 55,
     "metadata": {},
     "output_type": "execute_result"
    }
   ],
   "source": [
    "x_train_age.shape"
   ]
  },
  {
   "cell_type": "code",
   "execution_count": 56,
   "id": "8ba930ce-e824-4be7-a57a-992677918978",
   "metadata": {},
   "outputs": [],
   "source": [
    "x_train_transformed=np.concatenate((x_train_age,x_train_fever,\n",
    "                                   x_train_gender_city,\n",
    "                                   x_train_cough),axis=1)"
   ]
  },
  {
   "cell_type": "code",
   "execution_count": 59,
   "id": "519768d9-8fd0-49f5-b9db-a6245a06d4ba",
   "metadata": {},
   "outputs": [
    {
     "data": {
      "text/plain": [
       "(80, 7)"
      ]
     },
     "execution_count": 59,
     "metadata": {},
     "output_type": "execute_result"
    }
   ],
   "source": [
    "x_train_transformed.shape"
   ]
  },
  {
   "cell_type": "code",
   "execution_count": 60,
   "id": "b2994b08-0f30-49fb-b637-f5137cf150ae",
   "metadata": {},
   "outputs": [],
   "source": [
    "# Now we will  apply  columntransformer"
   ]
  },
  {
   "cell_type": "code",
   "execution_count": 66,
   "id": "00960957-6ee2-4eb0-b235-a3ab21ae9149",
   "metadata": {},
   "outputs": [],
   "source": [
    "from sklearn.compose import ColumnTransformer   #this is  how to import columnTransformer\n",
    "\n",
    "transformer=ColumnTransformer(transformers=[\n",
    "    (\"tnf1\",SimpleImputer(),[\"fever\"]),   #in a \"fever\" column by the hepl of  SI we Fill missing values by  mean,median,mode.\n",
    "    (\"tnf2\",OrdinalEncoder(categories=[[\"Mild\",\"Strong\"]]),[\"cough\"]),\n",
    "    #by this  process we encode the data\n",
    "\n",
    "    (\"tnf3\",OneHotEncoder(sparse_output=False,drop=\"first\"),[\"gender\",\"city\"])\n",
    "\n",
    "    \n",
    "    \n",
    "],remainder=\"passthrough\") #remainder-->passthrough---->it mean reset all  columns remains  same"
   ]
  },
  {
   "cell_type": "code",
   "execution_count": 68,
   "id": "6e732a29-5b82-4d71-bc39-ed9ee36d12ea",
   "metadata": {},
   "outputs": [
    {
     "data": {
      "text/plain": [
       "(80, 7)"
      ]
     },
     "execution_count": 68,
     "metadata": {},
     "output_type": "execute_result"
    }
   ],
   "source": [
    "transformer.fit_transform(x_train).shape"
   ]
  },
  {
   "cell_type": "code",
   "execution_count": null,
   "id": "e425072c-9849-42f2-85b9-bcc1cbf2f73c",
   "metadata": {},
   "outputs": [],
   "source": []
  }
 ],
 "metadata": {
  "kernelspec": {
   "display_name": "Python 3 (ipykernel)",
   "language": "python",
   "name": "python3"
  },
  "language_info": {
   "codemirror_mode": {
    "name": "ipython",
    "version": 3
   },
   "file_extension": ".py",
   "mimetype": "text/x-python",
   "name": "python",
   "nbconvert_exporter": "python",
   "pygments_lexer": "ipython3",
   "version": "3.13.5"
  }
 },
 "nbformat": 4,
 "nbformat_minor": 5
}
