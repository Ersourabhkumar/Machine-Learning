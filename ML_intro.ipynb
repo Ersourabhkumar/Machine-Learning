{
 "cells": [
  {
   "cell_type": "code",
   "execution_count": 1,
   "id": "50d24778-5563-4909-808d-bcff374f6cc5",
   "metadata": {},
   "outputs": [],
   "source": [
    "# Fearture Engineering---- Data clean and Preprocess\n"
   ]
  },
  {
   "cell_type": "code",
   "execution_count": 2,
   "id": "b88ae30b-2f0d-4bf2-981a-ff469ccc3f24",
   "metadata": {},
   "outputs": [],
   "source": [
    "# Workflow of ML---\n",
    "# Data Ingrestion---- Data cleaning and preprocessing --- Select ML Model --- Model training --- Model Evvalation"
   ]
  },
  {
   "cell_type": "code",
   "execution_count": 3,
   "id": "6d2df256-47fb-4f78-8472-4bc7ea4a02c1",
   "metadata": {},
   "outputs": [],
   "source": [
    "# Data Dividation\n",
    "# Data -- x, y\n",
    "# x= x_train , x_test\n",
    "# y= y_train , y_test"
   ]
  },
  {
   "cell_type": "code",
   "execution_count": 4,
   "id": "5f08757a-5cf8-427c-adf2-2609c61a440c",
   "metadata": {},
   "outputs": [],
   "source": [
    "import pandas as pd"
   ]
  },
  {
   "cell_type": "code",
   "execution_count": 5,
   "id": "9649983e-f313-4b17-b898-0adcc465a3ec",
   "metadata": {},
   "outputs": [],
   "source": [
    "df=pd.read_csv(\"placement - placement.csv\")"
   ]
  },
  {
   "cell_type": "code",
   "execution_count": 6,
   "id": "b0a67134-f3a5-4b39-85e5-e1cb7e7e3afe",
   "metadata": {},
   "outputs": [
    {
     "data": {
      "text/html": [
       "<div>\n",
       "<style scoped>\n",
       "    .dataframe tbody tr th:only-of-type {\n",
       "        vertical-align: middle;\n",
       "    }\n",
       "\n",
       "    .dataframe tbody tr th {\n",
       "        vertical-align: top;\n",
       "    }\n",
       "\n",
       "    .dataframe thead th {\n",
       "        text-align: right;\n",
       "    }\n",
       "</style>\n",
       "<table border=\"1\" class=\"dataframe\">\n",
       "  <thead>\n",
       "    <tr style=\"text-align: right;\">\n",
       "      <th></th>\n",
       "      <th>cgpa</th>\n",
       "      <th>resume_score</th>\n",
       "      <th>placed</th>\n",
       "    </tr>\n",
       "  </thead>\n",
       "  <tbody>\n",
       "    <tr>\n",
       "      <th>0</th>\n",
       "      <td>8.14</td>\n",
       "      <td>6.52</td>\n",
       "      <td>1</td>\n",
       "    </tr>\n",
       "    <tr>\n",
       "      <th>1</th>\n",
       "      <td>6.17</td>\n",
       "      <td>5.17</td>\n",
       "      <td>0</td>\n",
       "    </tr>\n",
       "  </tbody>\n",
       "</table>\n",
       "</div>"
      ],
      "text/plain": [
       "   cgpa  resume_score  placed\n",
       "0  8.14          6.52       1\n",
       "1  6.17          5.17       0"
      ]
     },
     "execution_count": 6,
     "metadata": {},
     "output_type": "execute_result"
    }
   ],
   "source": [
    "df.head(2)"
   ]
  },
  {
   "cell_type": "code",
   "execution_count": 7,
   "id": "b2f9f03e-54e6-4fb1-b940-ff65984080cf",
   "metadata": {},
   "outputs": [
    {
     "data": {
      "text/plain": [
       "(100, 3)"
      ]
     },
     "execution_count": 7,
     "metadata": {},
     "output_type": "execute_result"
    }
   ],
   "source": [
    "df.shape"
   ]
  },
  {
   "cell_type": "code",
   "execution_count": 8,
   "id": "7915ef20-e6f3-4a40-9007-9267d9ea713c",
   "metadata": {},
   "outputs": [],
   "source": [
    "x=df.drop(columns=[\"placed\"]) ###Input data"
   ]
  },
  {
   "cell_type": "code",
   "execution_count": 10,
   "id": "87648e23-ee89-43e9-9c70-fe2b17a80eba",
   "metadata": {},
   "outputs": [
    {
     "data": {
      "text/html": [
       "<div>\n",
       "<style scoped>\n",
       "    .dataframe tbody tr th:only-of-type {\n",
       "        vertical-align: middle;\n",
       "    }\n",
       "\n",
       "    .dataframe tbody tr th {\n",
       "        vertical-align: top;\n",
       "    }\n",
       "\n",
       "    .dataframe thead th {\n",
       "        text-align: right;\n",
       "    }\n",
       "</style>\n",
       "<table border=\"1\" class=\"dataframe\">\n",
       "  <thead>\n",
       "    <tr style=\"text-align: right;\">\n",
       "      <th></th>\n",
       "      <th>cgpa</th>\n",
       "      <th>resume_score</th>\n",
       "    </tr>\n",
       "  </thead>\n",
       "  <tbody>\n",
       "    <tr>\n",
       "      <th>0</th>\n",
       "      <td>8.14</td>\n",
       "      <td>6.52</td>\n",
       "    </tr>\n",
       "    <tr>\n",
       "      <th>1</th>\n",
       "      <td>6.17</td>\n",
       "      <td>5.17</td>\n",
       "    </tr>\n",
       "    <tr>\n",
       "      <th>2</th>\n",
       "      <td>8.27</td>\n",
       "      <td>8.86</td>\n",
       "    </tr>\n",
       "    <tr>\n",
       "      <th>3</th>\n",
       "      <td>6.88</td>\n",
       "      <td>7.27</td>\n",
       "    </tr>\n",
       "    <tr>\n",
       "      <th>4</th>\n",
       "      <td>7.52</td>\n",
       "      <td>7.30</td>\n",
       "    </tr>\n",
       "    <tr>\n",
       "      <th>...</th>\n",
       "      <td>...</td>\n",
       "      <td>...</td>\n",
       "    </tr>\n",
       "    <tr>\n",
       "      <th>95</th>\n",
       "      <td>6.33</td>\n",
       "      <td>6.38</td>\n",
       "    </tr>\n",
       "    <tr>\n",
       "      <th>96</th>\n",
       "      <td>8.23</td>\n",
       "      <td>7.76</td>\n",
       "    </tr>\n",
       "    <tr>\n",
       "      <th>97</th>\n",
       "      <td>6.65</td>\n",
       "      <td>7.78</td>\n",
       "    </tr>\n",
       "    <tr>\n",
       "      <th>98</th>\n",
       "      <td>8.14</td>\n",
       "      <td>5.63</td>\n",
       "    </tr>\n",
       "    <tr>\n",
       "      <th>99</th>\n",
       "      <td>6.09</td>\n",
       "      <td>6.61</td>\n",
       "    </tr>\n",
       "  </tbody>\n",
       "</table>\n",
       "<p>100 rows × 2 columns</p>\n",
       "</div>"
      ],
      "text/plain": [
       "    cgpa  resume_score\n",
       "0   8.14          6.52\n",
       "1   6.17          5.17\n",
       "2   8.27          8.86\n",
       "3   6.88          7.27\n",
       "4   7.52          7.30\n",
       "..   ...           ...\n",
       "95  6.33          6.38\n",
       "96  8.23          7.76\n",
       "97  6.65          7.78\n",
       "98  8.14          5.63\n",
       "99  6.09          6.61\n",
       "\n",
       "[100 rows x 2 columns]"
      ]
     },
     "execution_count": 10,
     "metadata": {},
     "output_type": "execute_result"
    }
   ],
   "source": [
    "# x"
   ]
  },
  {
   "cell_type": "code",
   "execution_count": 12,
   "id": "0dab235d-be4e-4a97-9d5d-84f9a78388a1",
   "metadata": {},
   "outputs": [],
   "source": [
    "y=df[\"placed\"]  ##Target data\n",
    "# y"
   ]
  },
  {
   "cell_type": "code",
   "execution_count": 16,
   "id": "c62fdf4d-8035-4cd7-b5da-bd9487e8c1c4",
   "metadata": {},
   "outputs": [
    {
     "data": {
      "text/plain": [
       "(100, 2)"
      ]
     },
     "execution_count": 16,
     "metadata": {},
     "output_type": "execute_result"
    }
   ],
   "source": [
    "x.shape"
   ]
  },
  {
   "cell_type": "code",
   "execution_count": 17,
   "id": "ea035bf2-198e-4dca-ac5e-9cd0f2c348d0",
   "metadata": {},
   "outputs": [
    {
     "data": {
      "text/plain": [
       "(100,)"
      ]
     },
     "execution_count": 17,
     "metadata": {},
     "output_type": "execute_result"
    }
   ],
   "source": [
    "y.shape"
   ]
  },
  {
   "cell_type": "code",
   "execution_count": 31,
   "id": "501f3183-385a-4b6c-bbeb-72698cb1d979",
   "metadata": {},
   "outputs": [],
   "source": [
    "# !pip install scikit_learn"
   ]
  },
  {
   "cell_type": "code",
   "execution_count": 22,
   "id": "2089368a-2910-4674-a6fd-07cbda988ba1",
   "metadata": {},
   "outputs": [],
   "source": [
    "from sklearn.model_selection import train_test_split"
   ]
  },
  {
   "cell_type": "code",
   "execution_count": 23,
   "id": "f2ff8b27-856d-4844-a550-f0d103d89b7b",
   "metadata": {},
   "outputs": [],
   "source": [
    "x_train,x_test,y_train,y_test=train_test_split(x,y,test_size=0.2,random_state=42)"
   ]
  },
  {
   "cell_type": "code",
   "execution_count": 24,
   "id": "963a8481-ebb1-4a1d-8600-2a4bc9f7b34e",
   "metadata": {},
   "outputs": [],
   "source": [
    "# test=20%\n",
    "# train=80%"
   ]
  },
  {
   "cell_type": "code",
   "execution_count": 25,
   "id": "e1200bcc-b2c2-4c8a-92e2-fbff88c07357",
   "metadata": {},
   "outputs": [],
   "source": [
    "# x_train"
   ]
  },
  {
   "cell_type": "code",
   "execution_count": 28,
   "id": "5ba61335-3ec9-4a44-9872-f04e7c7cf5d9",
   "metadata": {},
   "outputs": [
    {
     "name": "stdout",
     "output_type": "stream",
     "text": [
      "Data Shape: (100, 3)\n",
      "-------------------------\n",
      "x data shape: (100, 2)\n",
      "x_train data shape: (80, 2)\n",
      "x_test data shape: (20, 2)\n",
      "----------------------------\n",
      "y data shape: (100,)\n",
      "y_train data shape: (80,)\n",
      "y_test data shape: (20,)\n"
     ]
    }
   ],
   "source": [
    "print(\"Data Shape:\",df.shape)\n",
    "print(\"-------------------------\")\n",
    "print(\"x data shape:\",x.shape)\n",
    "print(\"x_train data shape:\",x_train.shape)\n",
    "print(\"x_test data shape:\",x_test.shape)\n",
    "print(\"----------------------------\")\n",
    "print(\"y data shape:\",y.shape)\n",
    "print(\"y_train data shape:\",y_train.shape)\n",
    "print(\"y_test data shape:\",y_test.shape)\n"
   ]
  },
  {
   "cell_type": "code",
   "execution_count": 44,
   "id": "f72aafff-7746-4a12-a35c-50d2033371cf",
   "metadata": {},
   "outputs": [],
   "source": [
    "# df(100,3)=x(100,2)+y(100,1)\n",
    "# x(100,2)=x_train(80,2)+x_test(20,2)\n",
    "# y(100,1)=y_train(80,1)+y_test(20,1)"
   ]
  },
  {
   "cell_type": "code",
   "execution_count": 112,
   "id": "64a56aca-9308-4bcf-b526-1ea44824c0bd",
   "metadata": {},
   "outputs": [],
   "source": [
    "df2=pd.read_csv(\"covid_toy - covid_toy.csv\")"
   ]
  },
  {
   "cell_type": "code",
   "execution_count": 113,
   "id": "0244178b-c10e-4a5c-a15e-b3cc21061ea8",
   "metadata": {},
   "outputs": [
    {
     "data": {
      "text/html": [
       "<div>\n",
       "<style scoped>\n",
       "    .dataframe tbody tr th:only-of-type {\n",
       "        vertical-align: middle;\n",
       "    }\n",
       "\n",
       "    .dataframe tbody tr th {\n",
       "        vertical-align: top;\n",
       "    }\n",
       "\n",
       "    .dataframe thead th {\n",
       "        text-align: right;\n",
       "    }\n",
       "</style>\n",
       "<table border=\"1\" class=\"dataframe\">\n",
       "  <thead>\n",
       "    <tr style=\"text-align: right;\">\n",
       "      <th></th>\n",
       "      <th>age</th>\n",
       "      <th>gender</th>\n",
       "      <th>fever</th>\n",
       "      <th>cough</th>\n",
       "      <th>city</th>\n",
       "      <th>has_covid</th>\n",
       "    </tr>\n",
       "  </thead>\n",
       "  <tbody>\n",
       "    <tr>\n",
       "      <th>0</th>\n",
       "      <td>60</td>\n",
       "      <td>Male</td>\n",
       "      <td>103.0</td>\n",
       "      <td>Mild</td>\n",
       "      <td>Kolkata</td>\n",
       "      <td>No</td>\n",
       "    </tr>\n",
       "    <tr>\n",
       "      <th>1</th>\n",
       "      <td>27</td>\n",
       "      <td>Male</td>\n",
       "      <td>100.0</td>\n",
       "      <td>Mild</td>\n",
       "      <td>Delhi</td>\n",
       "      <td>Yes</td>\n",
       "    </tr>\n",
       "  </tbody>\n",
       "</table>\n",
       "</div>"
      ],
      "text/plain": [
       "   age gender  fever cough     city has_covid\n",
       "0   60   Male  103.0  Mild  Kolkata        No\n",
       "1   27   Male  100.0  Mild    Delhi       Yes"
      ]
     },
     "execution_count": 113,
     "metadata": {},
     "output_type": "execute_result"
    }
   ],
   "source": [
    "df2.head(2)"
   ]
  },
  {
   "cell_type": "code",
   "execution_count": 114,
   "id": "a961882a-33bb-41fe-999a-a3399523e7c4",
   "metadata": {},
   "outputs": [],
   "source": [
    "from sklearn.impute import SimpleImputer"
   ]
  },
  {
   "cell_type": "code",
   "execution_count": 115,
   "id": "ba28a22e-959c-4480-8a66-ae37e8fc07a6",
   "metadata": {},
   "outputs": [],
   "source": [
    "si=SimpleImputer(strategy=\"mean\")"
   ]
  },
  {
   "cell_type": "code",
   "execution_count": 116,
   "id": "012397e1-e22b-40d7-ae22-f7e83aebd7f4",
   "metadata": {},
   "outputs": [],
   "source": [
    "df2[\"fever\"]=si.fit_transform(df2[[\"fever\"]]) ##fit means learn the parameters and\n",
    "#transform means apply on that data."
   ]
  },
  {
   "cell_type": "code",
   "execution_count": 117,
   "id": "69376b81-5fcb-44c7-80e6-26b1aa32b41a",
   "metadata": {},
   "outputs": [
    {
     "data": {
      "text/html": [
       "<div>\n",
       "<style scoped>\n",
       "    .dataframe tbody tr th:only-of-type {\n",
       "        vertical-align: middle;\n",
       "    }\n",
       "\n",
       "    .dataframe tbody tr th {\n",
       "        vertical-align: top;\n",
       "    }\n",
       "\n",
       "    .dataframe thead th {\n",
       "        text-align: right;\n",
       "    }\n",
       "</style>\n",
       "<table border=\"1\" class=\"dataframe\">\n",
       "  <thead>\n",
       "    <tr style=\"text-align: right;\">\n",
       "      <th></th>\n",
       "      <th>age</th>\n",
       "      <th>gender</th>\n",
       "      <th>fever</th>\n",
       "      <th>cough</th>\n",
       "      <th>city</th>\n",
       "      <th>has_covid</th>\n",
       "    </tr>\n",
       "  </thead>\n",
       "  <tbody>\n",
       "    <tr>\n",
       "      <th>0</th>\n",
       "      <td>60</td>\n",
       "      <td>Male</td>\n",
       "      <td>103.0</td>\n",
       "      <td>Mild</td>\n",
       "      <td>Kolkata</td>\n",
       "      <td>No</td>\n",
       "    </tr>\n",
       "    <tr>\n",
       "      <th>1</th>\n",
       "      <td>27</td>\n",
       "      <td>Male</td>\n",
       "      <td>100.0</td>\n",
       "      <td>Mild</td>\n",
       "      <td>Delhi</td>\n",
       "      <td>Yes</td>\n",
       "    </tr>\n",
       "  </tbody>\n",
       "</table>\n",
       "</div>"
      ],
      "text/plain": [
       "   age gender  fever cough     city has_covid\n",
       "0   60   Male  103.0  Mild  Kolkata        No\n",
       "1   27   Male  100.0  Mild    Delhi       Yes"
      ]
     },
     "execution_count": 117,
     "metadata": {},
     "output_type": "execute_result"
    }
   ],
   "source": [
    "df2.head(2)"
   ]
  },
  {
   "cell_type": "code",
   "execution_count": 118,
   "id": "1ea3585d-fc73-4fc0-a2fe-6cb07e3fccc6",
   "metadata": {},
   "outputs": [
    {
     "data": {
      "text/plain": [
       "age          0\n",
       "gender       0\n",
       "fever        0\n",
       "cough        0\n",
       "city         0\n",
       "has_covid    0\n",
       "dtype: int64"
      ]
     },
     "execution_count": 118,
     "metadata": {},
     "output_type": "execute_result"
    }
   ],
   "source": [
    "df2.isnull().sum()"
   ]
  },
  {
   "cell_type": "code",
   "execution_count": 119,
   "id": "47b5cc0f-85ed-4bb2-925e-d31f2783d996",
   "metadata": {},
   "outputs": [],
   "source": [
    "df2[\"gender\"]=df2[\"gender\"].map({\"Female\":0,\"Male\":1})"
   ]
  },
  {
   "cell_type": "code",
   "execution_count": 120,
   "id": "4cb4b2e4-c676-4504-9b2f-eaa5c73c1818",
   "metadata": {},
   "outputs": [],
   "source": [
    "df2[\"cough\"]=df2[\"cough\"].map({\"Mild\":0,\"Strong\":1})"
   ]
  },
  {
   "cell_type": "code",
   "execution_count": 121,
   "id": "c085bff3-f8f2-4b9c-8224-47efc4c31e28",
   "metadata": {},
   "outputs": [
    {
     "data": {
      "text/html": [
       "<div>\n",
       "<style scoped>\n",
       "    .dataframe tbody tr th:only-of-type {\n",
       "        vertical-align: middle;\n",
       "    }\n",
       "\n",
       "    .dataframe tbody tr th {\n",
       "        vertical-align: top;\n",
       "    }\n",
       "\n",
       "    .dataframe thead th {\n",
       "        text-align: right;\n",
       "    }\n",
       "</style>\n",
       "<table border=\"1\" class=\"dataframe\">\n",
       "  <thead>\n",
       "    <tr style=\"text-align: right;\">\n",
       "      <th></th>\n",
       "      <th>age</th>\n",
       "      <th>gender</th>\n",
       "      <th>fever</th>\n",
       "      <th>cough</th>\n",
       "      <th>city</th>\n",
       "      <th>has_covid</th>\n",
       "    </tr>\n",
       "  </thead>\n",
       "  <tbody>\n",
       "    <tr>\n",
       "      <th>0</th>\n",
       "      <td>60</td>\n",
       "      <td>1</td>\n",
       "      <td>103.000000</td>\n",
       "      <td>0</td>\n",
       "      <td>Kolkata</td>\n",
       "      <td>No</td>\n",
       "    </tr>\n",
       "    <tr>\n",
       "      <th>1</th>\n",
       "      <td>27</td>\n",
       "      <td>1</td>\n",
       "      <td>100.000000</td>\n",
       "      <td>0</td>\n",
       "      <td>Delhi</td>\n",
       "      <td>Yes</td>\n",
       "    </tr>\n",
       "    <tr>\n",
       "      <th>2</th>\n",
       "      <td>42</td>\n",
       "      <td>1</td>\n",
       "      <td>101.000000</td>\n",
       "      <td>0</td>\n",
       "      <td>Delhi</td>\n",
       "      <td>No</td>\n",
       "    </tr>\n",
       "    <tr>\n",
       "      <th>3</th>\n",
       "      <td>31</td>\n",
       "      <td>0</td>\n",
       "      <td>98.000000</td>\n",
       "      <td>0</td>\n",
       "      <td>Kolkata</td>\n",
       "      <td>No</td>\n",
       "    </tr>\n",
       "    <tr>\n",
       "      <th>4</th>\n",
       "      <td>65</td>\n",
       "      <td>0</td>\n",
       "      <td>101.000000</td>\n",
       "      <td>0</td>\n",
       "      <td>Mumbai</td>\n",
       "      <td>No</td>\n",
       "    </tr>\n",
       "    <tr>\n",
       "      <th>5</th>\n",
       "      <td>84</td>\n",
       "      <td>0</td>\n",
       "      <td>100.844444</td>\n",
       "      <td>0</td>\n",
       "      <td>Bangalore</td>\n",
       "      <td>Yes</td>\n",
       "    </tr>\n",
       "  </tbody>\n",
       "</table>\n",
       "</div>"
      ],
      "text/plain": [
       "   age  gender       fever  cough       city has_covid\n",
       "0   60       1  103.000000      0    Kolkata        No\n",
       "1   27       1  100.000000      0      Delhi       Yes\n",
       "2   42       1  101.000000      0      Delhi        No\n",
       "3   31       0   98.000000      0    Kolkata        No\n",
       "4   65       0  101.000000      0     Mumbai        No\n",
       "5   84       0  100.844444      0  Bangalore       Yes"
      ]
     },
     "execution_count": 121,
     "metadata": {},
     "output_type": "execute_result"
    }
   ],
   "source": [
    "df2.head(6)"
   ]
  },
  {
   "cell_type": "code",
   "execution_count": 122,
   "id": "d1ca9569-4c54-48c3-b4b2-12d2205a6379",
   "metadata": {},
   "outputs": [
    {
     "data": {
      "text/plain": [
       "city\n",
       "Kolkata      32\n",
       "Bangalore    30\n",
       "Delhi        22\n",
       "Mumbai       16\n",
       "Name: count, dtype: int64"
      ]
     },
     "execution_count": 122,
     "metadata": {},
     "output_type": "execute_result"
    }
   ],
   "source": [
    "df2[\"city\"].value_counts()"
   ]
  },
  {
   "cell_type": "code",
   "execution_count": 123,
   "id": "32ae6a50-1016-4cd8-b6e4-e7da34c117ce",
   "metadata": {},
   "outputs": [],
   "source": [
    "df2[\"city\"]=df2[\"city\"].map({\"Kolkata\":0 ,\"Bangalore\":1,\"Delhi\":3,\"Mumbai\":4})"
   ]
  },
  {
   "cell_type": "code",
   "execution_count": 124,
   "id": "4f91eaea-4832-4ee3-b63a-c6c6df048409",
   "metadata": {},
   "outputs": [
    {
     "data": {
      "text/html": [
       "<div>\n",
       "<style scoped>\n",
       "    .dataframe tbody tr th:only-of-type {\n",
       "        vertical-align: middle;\n",
       "    }\n",
       "\n",
       "    .dataframe tbody tr th {\n",
       "        vertical-align: top;\n",
       "    }\n",
       "\n",
       "    .dataframe thead th {\n",
       "        text-align: right;\n",
       "    }\n",
       "</style>\n",
       "<table border=\"1\" class=\"dataframe\">\n",
       "  <thead>\n",
       "    <tr style=\"text-align: right;\">\n",
       "      <th></th>\n",
       "      <th>age</th>\n",
       "      <th>gender</th>\n",
       "      <th>fever</th>\n",
       "      <th>cough</th>\n",
       "      <th>city</th>\n",
       "      <th>has_covid</th>\n",
       "    </tr>\n",
       "  </thead>\n",
       "  <tbody>\n",
       "    <tr>\n",
       "      <th>0</th>\n",
       "      <td>60</td>\n",
       "      <td>1</td>\n",
       "      <td>103.0</td>\n",
       "      <td>0</td>\n",
       "      <td>0</td>\n",
       "      <td>No</td>\n",
       "    </tr>\n",
       "    <tr>\n",
       "      <th>1</th>\n",
       "      <td>27</td>\n",
       "      <td>1</td>\n",
       "      <td>100.0</td>\n",
       "      <td>0</td>\n",
       "      <td>3</td>\n",
       "      <td>Yes</td>\n",
       "    </tr>\n",
       "  </tbody>\n",
       "</table>\n",
       "</div>"
      ],
      "text/plain": [
       "   age  gender  fever  cough  city has_covid\n",
       "0   60       1  103.0      0     0        No\n",
       "1   27       1  100.0      0     3       Yes"
      ]
     },
     "execution_count": 124,
     "metadata": {},
     "output_type": "execute_result"
    }
   ],
   "source": [
    "df2.head(2)"
   ]
  },
  {
   "cell_type": "code",
   "execution_count": 125,
   "id": "82ae5baa-aeb3-4af8-aefe-14d0896281f0",
   "metadata": {},
   "outputs": [],
   "source": [
    "df2[\"has_covid\"]=df2[\"has_covid\"].map({\"No\":0,\"Yes\":1})"
   ]
  },
  {
   "cell_type": "code",
   "execution_count": 126,
   "id": "8d4a861f-5ad1-4b4e-9aee-605a40eafdd2",
   "metadata": {},
   "outputs": [
    {
     "data": {
      "text/html": [
       "<div>\n",
       "<style scoped>\n",
       "    .dataframe tbody tr th:only-of-type {\n",
       "        vertical-align: middle;\n",
       "    }\n",
       "\n",
       "    .dataframe tbody tr th {\n",
       "        vertical-align: top;\n",
       "    }\n",
       "\n",
       "    .dataframe thead th {\n",
       "        text-align: right;\n",
       "    }\n",
       "</style>\n",
       "<table border=\"1\" class=\"dataframe\">\n",
       "  <thead>\n",
       "    <tr style=\"text-align: right;\">\n",
       "      <th></th>\n",
       "      <th>age</th>\n",
       "      <th>gender</th>\n",
       "      <th>fever</th>\n",
       "      <th>cough</th>\n",
       "      <th>city</th>\n",
       "      <th>has_covid</th>\n",
       "    </tr>\n",
       "  </thead>\n",
       "  <tbody>\n",
       "    <tr>\n",
       "      <th>0</th>\n",
       "      <td>60</td>\n",
       "      <td>1</td>\n",
       "      <td>103.000000</td>\n",
       "      <td>0</td>\n",
       "      <td>0</td>\n",
       "      <td>0</td>\n",
       "    </tr>\n",
       "    <tr>\n",
       "      <th>1</th>\n",
       "      <td>27</td>\n",
       "      <td>1</td>\n",
       "      <td>100.000000</td>\n",
       "      <td>0</td>\n",
       "      <td>3</td>\n",
       "      <td>1</td>\n",
       "    </tr>\n",
       "    <tr>\n",
       "      <th>2</th>\n",
       "      <td>42</td>\n",
       "      <td>1</td>\n",
       "      <td>101.000000</td>\n",
       "      <td>0</td>\n",
       "      <td>3</td>\n",
       "      <td>0</td>\n",
       "    </tr>\n",
       "    <tr>\n",
       "      <th>3</th>\n",
       "      <td>31</td>\n",
       "      <td>0</td>\n",
       "      <td>98.000000</td>\n",
       "      <td>0</td>\n",
       "      <td>0</td>\n",
       "      <td>0</td>\n",
       "    </tr>\n",
       "    <tr>\n",
       "      <th>4</th>\n",
       "      <td>65</td>\n",
       "      <td>0</td>\n",
       "      <td>101.000000</td>\n",
       "      <td>0</td>\n",
       "      <td>4</td>\n",
       "      <td>0</td>\n",
       "    </tr>\n",
       "    <tr>\n",
       "      <th>5</th>\n",
       "      <td>84</td>\n",
       "      <td>0</td>\n",
       "      <td>100.844444</td>\n",
       "      <td>0</td>\n",
       "      <td>1</td>\n",
       "      <td>1</td>\n",
       "    </tr>\n",
       "    <tr>\n",
       "      <th>6</th>\n",
       "      <td>14</td>\n",
       "      <td>1</td>\n",
       "      <td>101.000000</td>\n",
       "      <td>1</td>\n",
       "      <td>1</td>\n",
       "      <td>0</td>\n",
       "    </tr>\n",
       "    <tr>\n",
       "      <th>7</th>\n",
       "      <td>20</td>\n",
       "      <td>0</td>\n",
       "      <td>100.844444</td>\n",
       "      <td>1</td>\n",
       "      <td>4</td>\n",
       "      <td>1</td>\n",
       "    </tr>\n",
       "    <tr>\n",
       "      <th>8</th>\n",
       "      <td>19</td>\n",
       "      <td>0</td>\n",
       "      <td>100.000000</td>\n",
       "      <td>1</td>\n",
       "      <td>1</td>\n",
       "      <td>0</td>\n",
       "    </tr>\n",
       "    <tr>\n",
       "      <th>9</th>\n",
       "      <td>64</td>\n",
       "      <td>0</td>\n",
       "      <td>101.000000</td>\n",
       "      <td>0</td>\n",
       "      <td>3</td>\n",
       "      <td>0</td>\n",
       "    </tr>\n",
       "    <tr>\n",
       "      <th>10</th>\n",
       "      <td>75</td>\n",
       "      <td>0</td>\n",
       "      <td>100.844444</td>\n",
       "      <td>0</td>\n",
       "      <td>3</td>\n",
       "      <td>0</td>\n",
       "    </tr>\n",
       "    <tr>\n",
       "      <th>11</th>\n",
       "      <td>65</td>\n",
       "      <td>0</td>\n",
       "      <td>98.000000</td>\n",
       "      <td>0</td>\n",
       "      <td>4</td>\n",
       "      <td>1</td>\n",
       "    </tr>\n",
       "    <tr>\n",
       "      <th>12</th>\n",
       "      <td>25</td>\n",
       "      <td>0</td>\n",
       "      <td>99.000000</td>\n",
       "      <td>1</td>\n",
       "      <td>0</td>\n",
       "      <td>0</td>\n",
       "    </tr>\n",
       "    <tr>\n",
       "      <th>13</th>\n",
       "      <td>64</td>\n",
       "      <td>1</td>\n",
       "      <td>102.000000</td>\n",
       "      <td>0</td>\n",
       "      <td>1</td>\n",
       "      <td>1</td>\n",
       "    </tr>\n",
       "    <tr>\n",
       "      <th>14</th>\n",
       "      <td>51</td>\n",
       "      <td>1</td>\n",
       "      <td>104.000000</td>\n",
       "      <td>0</td>\n",
       "      <td>1</td>\n",
       "      <td>0</td>\n",
       "    </tr>\n",
       "  </tbody>\n",
       "</table>\n",
       "</div>"
      ],
      "text/plain": [
       "    age  gender       fever  cough  city  has_covid\n",
       "0    60       1  103.000000      0     0          0\n",
       "1    27       1  100.000000      0     3          1\n",
       "2    42       1  101.000000      0     3          0\n",
       "3    31       0   98.000000      0     0          0\n",
       "4    65       0  101.000000      0     4          0\n",
       "5    84       0  100.844444      0     1          1\n",
       "6    14       1  101.000000      1     1          0\n",
       "7    20       0  100.844444      1     4          1\n",
       "8    19       0  100.000000      1     1          0\n",
       "9    64       0  101.000000      0     3          0\n",
       "10   75       0  100.844444      0     3          0\n",
       "11   65       0   98.000000      0     4          1\n",
       "12   25       0   99.000000      1     0          0\n",
       "13   64       1  102.000000      0     1          1\n",
       "14   51       1  104.000000      0     1          0"
      ]
     },
     "execution_count": 126,
     "metadata": {},
     "output_type": "execute_result"
    }
   ],
   "source": [
    "df2.head(15)"
   ]
  },
  {
   "cell_type": "code",
   "execution_count": 127,
   "id": "36393723-4c1d-4339-b54e-01cc1d0c5a9c",
   "metadata": {},
   "outputs": [],
   "source": [
    "x=df2.drop(columns=[\"has_covid\"]) #input data"
   ]
  },
  {
   "cell_type": "code",
   "execution_count": 128,
   "id": "49dd86a5-3d6c-4c5d-adf0-2bf17e33b31f",
   "metadata": {},
   "outputs": [],
   "source": [
    "# x"
   ]
  },
  {
   "cell_type": "code",
   "execution_count": 129,
   "id": "005d34cd-6ce7-4866-8431-7e954c6dc0f1",
   "metadata": {},
   "outputs": [],
   "source": [
    " y=df2[\"has_covid\"]  #target data"
   ]
  },
  {
   "cell_type": "code",
   "execution_count": 130,
   "id": "ac2b7f3c-1b16-46d7-b76c-c1ffa1d3a08d",
   "metadata": {},
   "outputs": [],
   "source": [
    "# y"
   ]
  },
  {
   "cell_type": "code",
   "execution_count": 131,
   "id": "00734d08-429e-48a7-a584-fd6afbbbc12d",
   "metadata": {},
   "outputs": [
    {
     "data": {
      "text/plain": [
       "(100, 6)"
      ]
     },
     "execution_count": 131,
     "metadata": {},
     "output_type": "execute_result"
    }
   ],
   "source": [
    "df2.shape"
   ]
  },
  {
   "cell_type": "code",
   "execution_count": 132,
   "id": "0ed3e6a7-52fc-4132-ad64-78ee5180a80c",
   "metadata": {},
   "outputs": [
    {
     "data": {
      "text/plain": [
       "(100, 5)"
      ]
     },
     "execution_count": 132,
     "metadata": {},
     "output_type": "execute_result"
    }
   ],
   "source": [
    "x.shape"
   ]
  },
  {
   "cell_type": "code",
   "execution_count": 133,
   "id": "dca5119a-798e-4dcb-843f-ed1673b637ef",
   "metadata": {},
   "outputs": [
    {
     "data": {
      "text/plain": [
       "(100,)"
      ]
     },
     "execution_count": 133,
     "metadata": {},
     "output_type": "execute_result"
    }
   ],
   "source": [
    "y.shape"
   ]
  },
  {
   "cell_type": "code",
   "execution_count": 134,
   "id": "52e6dd60-b43e-45e8-ba75-405a158a9a5b",
   "metadata": {},
   "outputs": [],
   "source": [
    "x_train,x_test,y_train,y_test=train_test_split(x,y,test_size=0.2,random_state=42)"
   ]
  },
  {
   "cell_type": "code",
   "execution_count": 135,
   "id": "105da110-aed3-4653-9d14-a44fdafec138",
   "metadata": {},
   "outputs": [
    {
     "name": "stdout",
     "output_type": "stream",
     "text": [
      "Data Shape: (100, 3)\n",
      "-------------------------\n",
      "x data shape: (100, 5)\n",
      "x_train data shape: (80, 5)\n",
      "x_test data shape: (20, 5)\n",
      "----------------------------\n",
      "y data shape: (100,)\n",
      "y_train data shape: (80,)\n",
      "y_test data shape: (20,)\n"
     ]
    }
   ],
   "source": [
    "print(\"Data Shape:\",df.shape)\n",
    "print(\"-------------------------\")\n",
    "print(\"x data shape:\",x.shape)\n",
    "print(\"x_train data shape:\",x_train.shape)\n",
    "print(\"x_test data shape:\",x_test.shape)\n",
    "print(\"----------------------------\")\n",
    "print(\"y data shape:\",y.shape)\n",
    "print(\"y_train data shape:\",y_train.shape)\n",
    "print(\"y_test data shape:\",y_test.shape)\n"
   ]
  },
  {
   "cell_type": "code",
   "execution_count": null,
   "id": "55b99907-ebb4-4134-808b-72ef7ca78ebe",
   "metadata": {},
   "outputs": [],
   "source": []
  }
 ],
 "metadata": {
  "kernelspec": {
   "display_name": "Python 3 (ipykernel)",
   "language": "python",
   "name": "python3"
  },
  "language_info": {
   "codemirror_mode": {
    "name": "ipython",
    "version": 3
   },
   "file_extension": ".py",
   "mimetype": "text/x-python",
   "name": "python",
   "nbconvert_exporter": "python",
   "pygments_lexer": "ipython3",
   "version": "3.13.5"
  }
 },
 "nbformat": 4,
 "nbformat_minor": 5
}
