{
 "cells": [
  {
   "cell_type": "code",
   "execution_count": 1,
   "id": "68081420-dc0a-4f1b-a798-d0ee68b0be06",
   "metadata": {},
   "outputs": [],
   "source": [
    "#what is function transformer in machine learning?"
   ]
  },
  {
   "cell_type": "code",
   "execution_count": 3,
   "id": "768459c0-ace3-449e-afcb-7ab60e02ff4e",
   "metadata": {},
   "outputs": [],
   "source": [
    "# the function transformer is a tool in scikit_learn, a popular\n",
    "# python library for machine learning,  that allows you to apply a\n",
    "# specified fuction to the input data. the functiontransformer\n",
    "# can be useful for  performing custom  transformer of  input\n",
    "# data  in a machine  learninng pipeline."
   ]
  },
  {
   "cell_type": "code",
   "execution_count": 8,
   "id": "40bfa251-207c-40b2-9360-f9764c04d31b",
   "metadata": {},
   "outputs": [
    {
     "name": "stdout",
     "output_type": "stream",
     "text": [
      "[[0.69314718 1.09861229]\n",
      " [1.38629436 1.60943791]]\n"
     ]
    }
   ],
   "source": [
    "from  sklearn.preprocessing import FunctionTransformer\n",
    "import numpy as np\n",
    "\n",
    "#create a dataset\n",
    "X=np.array([[1,2],[3,4]])\n",
    "\n",
    "#define the transformer fuction\n",
    "log_transform =FunctionTransformer(np.log1p)\n",
    "\n",
    "#apply  the  transformer to the dataset\n",
    "X_transformed =log_transform.transform(X)\n",
    "\n",
    "# view the tranformed  data\n",
    "print(X_transformed)"
   ]
  },
  {
   "cell_type": "code",
   "execution_count": 14,
   "id": "144aa30c-30bc-4ab4-86e6-8e21e3566e42",
   "metadata": {},
   "outputs": [
    {
     "name": "stdout",
     "output_type": "stream",
     "text": [
      "[[ 1  2  1  4]\n",
      " [ 3  4  9 16]]\n"
     ]
    }
   ],
   "source": [
    "# 1. custom feature Engineering\n",
    "\n",
    "from  sklearn.preprocessing import FunctionTransformer\n",
    "import numpy as np\n",
    "\n",
    "#create a  dataset\n",
    "X=np.array([[1,2],[3,4]])\n",
    "\n",
    "#define a custom feature engineering fuction \n",
    "def squ(X):\n",
    "    return np.hstack((X,X**2))\n",
    "\n",
    "#create a fuctiontransformer to  apply the  custom fuction\n",
    "custom_transformer=FunctionTransformer(squ)\n",
    "\n",
    "# apply the tranformer to  the input data\n",
    "X_transformed=custom_transformer.transform(X)\n",
    "\n",
    "# view thw transformed data\n",
    "print(X_transformed)"
   ]
  },
  {
   "cell_type": "code",
   "execution_count": 18,
   "id": "1902b472-519b-435e-9e01-9a4decd40c7e",
   "metadata": {},
   "outputs": [
    {
     "name": "stdout",
     "output_type": "stream",
     "text": [
      "[[0.25 0.5 ]\n",
      " [0.75 1.  ]]\n"
     ]
    }
   ],
   "source": [
    "from  sklearn.preprocessing import FunctionTransformer\n",
    "import numpy as np\n",
    "\n",
    "#create a dataset\n",
    "X=np.array([[1,2],[3,4]])\n",
    "\n",
    "# define  a  custom scalinng fuction\n",
    "def  my_scaling(X):\n",
    "    return  X/np.max(X)\n",
    "\n",
    "# create a fuction transformer to  apply the custom fuction\n",
    "custom_transformer = FunctionTransformer(my_scaling)\n",
    "\n",
    "#apply the FuctionTransformer to  the input data\n",
    "X_transformed=custom_transformer.transform(X)\n",
    "\n",
    "# vies the transformed  data\n",
    "print(X_transformed)"
   ]
  },
  {
   "cell_type": "code",
   "execution_count": 20,
   "id": "9bed4db7-d272-4d11-b80b-4a258ce75ad3",
   "metadata": {},
   "outputs": [
    {
     "name": "stdout",
     "output_type": "stream",
     "text": [
      "[[1. 2.]\n",
      " [3. 0.]]\n"
     ]
    }
   ],
   "source": [
    "from  sklearn.preprocessing import FunctionTransformer\n",
    "import numpy as np\n",
    "\n",
    "# create a dataset wwith  missing values\n",
    "X=np.array([[1,2],[3,np.nan]])\n",
    "\n",
    "# define a custom cleaning fuction\n",
    "def my_cleaning(X):\n",
    "    X[np.isnan(X)]=0\n",
    "    return X\n",
    "\n",
    "# create a fuction transformer to  apply the custom fuction\n",
    "custom_transformer = FunctionTransformer(my_cleaning)\n",
    "\n",
    "#apply the FuctionTransformer to  the input data\n",
    "X_transformed=custom_transformer.transform(X)\n",
    "\n",
    "# vies the transformed  data\n",
    "print(X_transformed)"
   ]
  },
  {
   "cell_type": "code",
   "execution_count": 21,
   "id": "cc13a7f9-30f1-406c-8cee-3bdc445e4487",
   "metadata": {},
   "outputs": [],
   "source": [
    "import numpy as np\n",
    "import pandas as pd"
   ]
  },
  {
   "cell_type": "code",
   "execution_count": 22,
   "id": "8d4f6be6-6fc1-4b7a-808f-13f03b21947d",
   "metadata": {},
   "outputs": [],
   "source": [
    "df=pd.read_csv(\"placement - placement.csv\")"
   ]
  },
  {
   "cell_type": "code",
   "execution_count": 23,
   "id": "3c137e62-ee89-4358-a112-6af3892034e7",
   "metadata": {},
   "outputs": [
    {
     "data": {
      "text/html": [
       "<div>\n",
       "<style scoped>\n",
       "    .dataframe tbody tr th:only-of-type {\n",
       "        vertical-align: middle;\n",
       "    }\n",
       "\n",
       "    .dataframe tbody tr th {\n",
       "        vertical-align: top;\n",
       "    }\n",
       "\n",
       "    .dataframe thead th {\n",
       "        text-align: right;\n",
       "    }\n",
       "</style>\n",
       "<table border=\"1\" class=\"dataframe\">\n",
       "  <thead>\n",
       "    <tr style=\"text-align: right;\">\n",
       "      <th></th>\n",
       "      <th>cgpa</th>\n",
       "      <th>resume_score</th>\n",
       "      <th>placed</th>\n",
       "    </tr>\n",
       "  </thead>\n",
       "  <tbody>\n",
       "    <tr>\n",
       "      <th>0</th>\n",
       "      <td>8.14</td>\n",
       "      <td>6.52</td>\n",
       "      <td>1</td>\n",
       "    </tr>\n",
       "    <tr>\n",
       "      <th>1</th>\n",
       "      <td>6.17</td>\n",
       "      <td>5.17</td>\n",
       "      <td>0</td>\n",
       "    </tr>\n",
       "  </tbody>\n",
       "</table>\n",
       "</div>"
      ],
      "text/plain": [
       "   cgpa  resume_score  placed\n",
       "0  8.14          6.52       1\n",
       "1  6.17          5.17       0"
      ]
     },
     "execution_count": 23,
     "metadata": {},
     "output_type": "execute_result"
    }
   ],
   "source": [
    "df.head(2)"
   ]
  },
  {
   "cell_type": "code",
   "execution_count": 24,
   "id": "64f046f1-5bcb-4dad-b0cf-4b544c6cd797",
   "metadata": {},
   "outputs": [],
   "source": [
    "x=df.drop(columns=[\"placed\"])\n",
    "y=df[\"placed\"]"
   ]
  },
  {
   "cell_type": "code",
   "execution_count": 26,
   "id": "b7902861-a093-47b2-9e5e-60c98e4b931c",
   "metadata": {},
   "outputs": [],
   "source": [
    "from sklearn.preprocessing  import FunctionTransformer"
   ]
  },
  {
   "cell_type": "code",
   "execution_count": 29,
   "id": "8651186e-23ad-45d9-bbd5-aba3cf9641d0",
   "metadata": {},
   "outputs": [],
   "source": [
    "log_transform=FunctionTransformer(np.log1p)\n",
    "\n",
    "#apply  the  transformer to the dataset\n",
    "X_transformed=log_transform.transform(x)\n"
   ]
  },
  {
   "cell_type": "code",
   "execution_count": 31,
   "id": "3df8aecd-d3cb-4f49-8419-98516295b9cc",
   "metadata": {},
   "outputs": [
    {
     "data": {
      "text/html": [
       "<div>\n",
       "<style scoped>\n",
       "    .dataframe tbody tr th:only-of-type {\n",
       "        vertical-align: middle;\n",
       "    }\n",
       "\n",
       "    .dataframe tbody tr th {\n",
       "        vertical-align: top;\n",
       "    }\n",
       "\n",
       "    .dataframe thead th {\n",
       "        text-align: right;\n",
       "    }\n",
       "</style>\n",
       "<table border=\"1\" class=\"dataframe\">\n",
       "  <thead>\n",
       "    <tr style=\"text-align: right;\">\n",
       "      <th></th>\n",
       "      <th>cgpa</th>\n",
       "      <th>resume_score</th>\n",
       "    </tr>\n",
       "  </thead>\n",
       "  <tbody>\n",
       "    <tr>\n",
       "      <th>0</th>\n",
       "      <td>2.212660</td>\n",
       "      <td>2.017566</td>\n",
       "    </tr>\n",
       "    <tr>\n",
       "      <th>1</th>\n",
       "      <td>1.969906</td>\n",
       "      <td>1.819699</td>\n",
       "    </tr>\n",
       "    <tr>\n",
       "      <th>2</th>\n",
       "      <td>2.226783</td>\n",
       "      <td>2.288486</td>\n",
       "    </tr>\n",
       "    <tr>\n",
       "      <th>3</th>\n",
       "      <td>2.064328</td>\n",
       "      <td>2.112635</td>\n",
       "    </tr>\n",
       "    <tr>\n",
       "      <th>4</th>\n",
       "      <td>2.142416</td>\n",
       "      <td>2.116256</td>\n",
       "    </tr>\n",
       "    <tr>\n",
       "      <th>...</th>\n",
       "      <td>...</td>\n",
       "      <td>...</td>\n",
       "    </tr>\n",
       "    <tr>\n",
       "      <th>95</th>\n",
       "      <td>1.991976</td>\n",
       "      <td>1.998774</td>\n",
       "    </tr>\n",
       "    <tr>\n",
       "      <th>96</th>\n",
       "      <td>2.222459</td>\n",
       "      <td>2.170196</td>\n",
       "    </tr>\n",
       "    <tr>\n",
       "      <th>97</th>\n",
       "      <td>2.034706</td>\n",
       "      <td>2.172476</td>\n",
       "    </tr>\n",
       "    <tr>\n",
       "      <th>98</th>\n",
       "      <td>2.212660</td>\n",
       "      <td>1.891605</td>\n",
       "    </tr>\n",
       "    <tr>\n",
       "      <th>99</th>\n",
       "      <td>1.958685</td>\n",
       "      <td>2.029463</td>\n",
       "    </tr>\n",
       "  </tbody>\n",
       "</table>\n",
       "<p>100 rows × 2 columns</p>\n",
       "</div>"
      ],
      "text/plain": [
       "        cgpa  resume_score\n",
       "0   2.212660      2.017566\n",
       "1   1.969906      1.819699\n",
       "2   2.226783      2.288486\n",
       "3   2.064328      2.112635\n",
       "4   2.142416      2.116256\n",
       "..       ...           ...\n",
       "95  1.991976      1.998774\n",
       "96  2.222459      2.170196\n",
       "97  2.034706      2.172476\n",
       "98  2.212660      1.891605\n",
       "99  1.958685      2.029463\n",
       "\n",
       "[100 rows x 2 columns]"
      ]
     },
     "execution_count": 31,
     "metadata": {},
     "output_type": "execute_result"
    }
   ],
   "source": [
    "X_transformed"
   ]
  },
  {
   "cell_type": "code",
   "execution_count": 32,
   "id": "0e9d927e-f764-42b3-bc7a-97cb36a0f4d4",
   "metadata": {},
   "outputs": [],
   "source": [
    "df=pd.read_csv(\"covid_toy - covid_toy.csv\")"
   ]
  },
  {
   "cell_type": "code",
   "execution_count": 37,
   "id": "71c614c1-b05f-4c5d-bf39-d0d683b25619",
   "metadata": {},
   "outputs": [
    {
     "data": {
      "text/html": [
       "<div>\n",
       "<style scoped>\n",
       "    .dataframe tbody tr th:only-of-type {\n",
       "        vertical-align: middle;\n",
       "    }\n",
       "\n",
       "    .dataframe tbody tr th {\n",
       "        vertical-align: top;\n",
       "    }\n",
       "\n",
       "    .dataframe thead th {\n",
       "        text-align: right;\n",
       "    }\n",
       "</style>\n",
       "<table border=\"1\" class=\"dataframe\">\n",
       "  <thead>\n",
       "    <tr style=\"text-align: right;\">\n",
       "      <th></th>\n",
       "      <th>age</th>\n",
       "      <th>gender</th>\n",
       "      <th>fever</th>\n",
       "      <th>cough</th>\n",
       "      <th>city</th>\n",
       "      <th>has_covid</th>\n",
       "    </tr>\n",
       "  </thead>\n",
       "  <tbody>\n",
       "    <tr>\n",
       "      <th>0</th>\n",
       "      <td>65</td>\n",
       "      <td>Male</td>\n",
       "      <td>103.0</td>\n",
       "      <td>Mild</td>\n",
       "      <td>Kolkata</td>\n",
       "      <td>No</td>\n",
       "    </tr>\n",
       "    <tr>\n",
       "      <th>1</th>\n",
       "      <td>32</td>\n",
       "      <td>Male</td>\n",
       "      <td>100.0</td>\n",
       "      <td>Mild</td>\n",
       "      <td>Delhi</td>\n",
       "      <td>Yes</td>\n",
       "    </tr>\n",
       "  </tbody>\n",
       "</table>\n",
       "</div>"
      ],
      "text/plain": [
       "   age gender  fever cough     city has_covid\n",
       "0   65   Male  103.0  Mild  Kolkata        No\n",
       "1   32   Male  100.0  Mild    Delhi       Yes"
      ]
     },
     "execution_count": 37,
     "metadata": {},
     "output_type": "execute_result"
    }
   ],
   "source": [
    "df.head(2)"
   ]
  },
  {
   "cell_type": "code",
   "execution_count": 38,
   "id": "26d2f186-18f4-4702-8958-98980bad53d4",
   "metadata": {},
   "outputs": [],
   "source": [
    "x=df[\"age\"]"
   ]
  },
  {
   "cell_type": "code",
   "execution_count": 36,
   "id": "fffe388d-8e1c-4e9c-80f0-5fe34567648d",
   "metadata": {},
   "outputs": [
    {
     "data": {
      "text/html": [
       "<div>\n",
       "<style scoped>\n",
       "    .dataframe tbody tr th:only-of-type {\n",
       "        vertical-align: middle;\n",
       "    }\n",
       "\n",
       "    .dataframe tbody tr th {\n",
       "        vertical-align: top;\n",
       "    }\n",
       "\n",
       "    .dataframe thead th {\n",
       "        text-align: right;\n",
       "    }\n",
       "</style>\n",
       "<table border=\"1\" class=\"dataframe\">\n",
       "  <thead>\n",
       "    <tr style=\"text-align: right;\">\n",
       "      <th></th>\n",
       "      <th>age</th>\n",
       "      <th>gender</th>\n",
       "      <th>fever</th>\n",
       "      <th>cough</th>\n",
       "      <th>city</th>\n",
       "      <th>has_covid</th>\n",
       "    </tr>\n",
       "  </thead>\n",
       "  <tbody>\n",
       "    <tr>\n",
       "      <th>0</th>\n",
       "      <td>65</td>\n",
       "      <td>Male</td>\n",
       "      <td>103.0</td>\n",
       "      <td>Mild</td>\n",
       "      <td>Kolkata</td>\n",
       "      <td>No</td>\n",
       "    </tr>\n",
       "    <tr>\n",
       "      <th>1</th>\n",
       "      <td>32</td>\n",
       "      <td>Male</td>\n",
       "      <td>100.0</td>\n",
       "      <td>Mild</td>\n",
       "      <td>Delhi</td>\n",
       "      <td>Yes</td>\n",
       "    </tr>\n",
       "  </tbody>\n",
       "</table>\n",
       "</div>"
      ],
      "text/plain": [
       "   age gender  fever cough     city has_covid\n",
       "0   65   Male  103.0  Mild  Kolkata        No\n",
       "1   32   Male  100.0  Mild    Delhi       Yes"
      ]
     },
     "execution_count": 36,
     "metadata": {},
     "output_type": "execute_result"
    }
   ],
   "source": [
    "def add(a):\n",
    "    "
   ]
  },
  {
   "cell_type": "code",
   "execution_count": null,
   "id": "f29712ca-3a89-4057-b74e-033f5804aaf0",
   "metadata": {},
   "outputs": [],
   "source": []
  }
 ],
 "metadata": {
  "kernelspec": {
   "display_name": "Python 3 (ipykernel)",
   "language": "python",
   "name": "python3"
  },
  "language_info": {
   "codemirror_mode": {
    "name": "ipython",
    "version": 3
   },
   "file_extension": ".py",
   "mimetype": "text/x-python",
   "name": "python",
   "nbconvert_exporter": "python",
   "pygments_lexer": "ipython3",
   "version": "3.13.5"
  }
 },
 "nbformat": 4,
 "nbformat_minor": 5
}
